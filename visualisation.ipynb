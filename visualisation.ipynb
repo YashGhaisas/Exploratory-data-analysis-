{
 "cells": [
  {
   "cell_type": "markdown",
   "id": "chinese-attachment",
   "metadata": {},
   "source": [
    "# Pandas-Profiling"
   ]
  },
  {
   "cell_type": "code",
   "execution_count": 9,
   "id": "numeric-savage",
   "metadata": {},
   "outputs": [],
   "source": [
    "#pip install pandas-profiling"
   ]
  },
  {
   "cell_type": "code",
   "execution_count": 10,
   "id": "retained-tuition",
   "metadata": {},
   "outputs": [],
   "source": [
    "import pandas as pd\n",
    "from pandas_profiling import ProfileReport"
   ]
  },
  {
   "cell_type": "code",
   "execution_count": 11,
   "id": "conventional-selling",
   "metadata": {},
   "outputs": [],
   "source": [
    "profile = ProfileReport(pd.read_csv('WA_Fn-UseC_-HR-Employee-Attrition.csv'), explorative=True)"
   ]
  },
  {
   "cell_type": "code",
   "execution_count": 12,
   "id": "seeing-connectivity",
   "metadata": {},
   "outputs": [
    {
     "data": {
      "application/vnd.jupyter.widget-view+json": {
       "model_id": "13c4f33d53d342c98e4021b34f397d5b",
       "version_major": 2,
       "version_minor": 0
      },
      "text/plain": [
       "Summarize dataset:   0%|          | 0/48 [00:00<?, ?it/s]"
      ]
     },
     "metadata": {},
     "output_type": "display_data"
    },
    {
     "data": {
      "application/vnd.jupyter.widget-view+json": {
       "model_id": "d44ebaa28501473db7d31dc7bd95d8bc",
       "version_major": 2,
       "version_minor": 0
      },
      "text/plain": [
       "Generate report structure:   0%|          | 0/1 [00:00<?, ?it/s]"
      ]
     },
     "metadata": {},
     "output_type": "display_data"
    },
    {
     "data": {
      "application/vnd.jupyter.widget-view+json": {
       "model_id": "0bda305ee496440182a062cd8d765f08",
       "version_major": 2,
       "version_minor": 0
      },
      "text/plain": [
       "Render HTML:   0%|          | 0/1 [00:00<?, ?it/s]"
      ]
     },
     "metadata": {},
     "output_type": "display_data"
    },
    {
     "data": {
      "application/vnd.jupyter.widget-view+json": {
       "model_id": "7a855177f5d242ed87d2621377d7680a",
       "version_major": 2,
       "version_minor": 0
      },
      "text/plain": [
       "Export report to file:   0%|          | 0/1 [00:00<?, ?it/s]"
      ]
     },
     "metadata": {},
     "output_type": "display_data"
    }
   ],
   "source": [
    "profile.to_file(\"pandasprofilingoutput1.html\")"
   ]
  },
  {
   "cell_type": "markdown",
   "id": "thrown-overhead",
   "metadata": {},
   "source": [
    "# SweetViz"
   ]
  },
  {
   "cell_type": "code",
   "execution_count": 13,
   "id": "technical-broadway",
   "metadata": {},
   "outputs": [],
   "source": [
    "#pip install sweetviz"
   ]
  },
  {
   "cell_type": "code",
   "execution_count": 14,
   "id": "together-fiber",
   "metadata": {},
   "outputs": [],
   "source": [
    "import pandas as pd\n",
    "import sweetviz as sv"
   ]
  },
  {
   "cell_type": "code",
   "execution_count": 15,
   "id": "novel-alert",
   "metadata": {},
   "outputs": [
    {
     "data": {
      "application/vnd.jupyter.widget-view+json": {
       "model_id": "67a6cef2554f4e55bf4b1127ad978e9a",
       "version_major": 2,
       "version_minor": 0
      },
      "text/plain": [
       "                                             |          | [  0%]   00:00 -> (? left)"
      ]
     },
     "metadata": {},
     "output_type": "display_data"
    }
   ],
   "source": [
    "sweet_report = sv.analyze(pd.read_csv(\"WA_Fn-UseC_-HR-Employee-Attrition.csv\"))"
   ]
  },
  {
   "cell_type": "code",
   "execution_count": 16,
   "id": "acting-steam",
   "metadata": {},
   "outputs": [
    {
     "name": "stdout",
     "output_type": "stream",
     "text": [
      "Report sweetvizoutput2.html was generated! NOTEBOOK/COLAB USERS: the web browser MAY not pop up, regardless, the report IS saved in your notebook/colab files.\n"
     ]
    }
   ],
   "source": [
    "sweet_report.show_html('sweetvizoutput2.html')"
   ]
  },
  {
   "cell_type": "markdown",
   "id": "intellectual-thunder",
   "metadata": {},
   "source": [
    "# AutoViz"
   ]
  },
  {
   "cell_type": "code",
   "execution_count": 17,
   "id": "external-fellow",
   "metadata": {},
   "outputs": [],
   "source": [
    "#pip install autoviz"
   ]
  },
  {
   "cell_type": "code",
   "execution_count": 18,
   "id": "voluntary-creativity",
   "metadata": {},
   "outputs": [],
   "source": [
    "import pandas as pd"
   ]
  },
  {
   "cell_type": "code",
   "execution_count": 23,
   "id": "configured-titanium",
   "metadata": {},
   "outputs": [],
   "source": [
    "from autoviz.AutoViz_Class import AutoViz_Class"
   ]
  },
  {
   "cell_type": "code",
   "execution_count": 3,
   "id": "tired-biology",
   "metadata": {},
   "outputs": [],
   "source": [
    "autoviz = AutoViz_Class().AutoViz('WA_Fn-UseC_-HR-Employee-Attrition.csv')"
   ]
  },
  {
   "cell_type": "markdown",
   "id": "varied-porcelain",
   "metadata": {},
   "source": [
    "# D-Tale "
   ]
  },
  {
   "cell_type": "code",
   "execution_count": 20,
   "id": "capable-marking",
   "metadata": {},
   "outputs": [],
   "source": [
    "#pip install dtale"
   ]
  },
  {
   "cell_type": "code",
   "execution_count": 21,
   "id": "foreign-embassy",
   "metadata": {},
   "outputs": [],
   "source": [
    "import dtale\n",
    "d= dtale.show(pd.read_csv(\"WA_Fn-UseC_-HR-Employee-Attrition.csv\"))"
   ]
  },
  {
   "cell_type": "code",
   "execution_count": 22,
   "id": "demanding-segment",
   "metadata": {
    "scrolled": true
   },
   "outputs": [
    {
     "data": {
      "text/html": [
       "\n",
       "        <iframe\n",
       "            width=\"100%\"\n",
       "            height=\"475\"\n",
       "            src=\"http://Yashs-MacBook-Pro.local:40000/dtale/iframe/1\"\n",
       "            frameborder=\"0\"\n",
       "            allowfullscreen\n",
       "        ></iframe>\n",
       "        "
      ],
      "text/plain": [
       "<IPython.lib.display.IFrame at 0x7ff342e7edd0>"
      ]
     },
     "metadata": {},
     "output_type": "display_data"
    },
    {
     "data": {
      "text/plain": []
     },
     "execution_count": 22,
     "metadata": {},
     "output_type": "execute_result"
    }
   ],
   "source": [
    "d"
   ]
  },
  {
   "cell_type": "code",
   "execution_count": null,
   "id": "stone-hanging",
   "metadata": {},
   "outputs": [],
   "source": []
  }
 ],
 "metadata": {
  "kernelspec": {
   "display_name": "Python 3",
   "language": "python",
   "name": "python3"
  },
  "language_info": {
   "codemirror_mode": {
    "name": "ipython",
    "version": 3
   },
   "file_extension": ".py",
   "mimetype": "text/x-python",
   "name": "python",
   "nbconvert_exporter": "python",
   "pygments_lexer": "ipython3",
   "version": "3.7.4"
  }
 },
 "nbformat": 4,
 "nbformat_minor": 5
}
